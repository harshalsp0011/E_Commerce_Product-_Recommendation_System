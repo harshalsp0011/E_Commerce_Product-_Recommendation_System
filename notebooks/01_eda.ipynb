{
 "cells": [
  {
   "cell_type": "markdown",
   "id": "88659500",
   "metadata": {},
   "source": [
    "# Step 1: Load and Explore Retailrocket Events Data"
   ]
  },
  {
   "cell_type": "code",
   "execution_count": 3,
   "id": "eb3a870d",
   "metadata": {},
   "outputs": [
    {
     "name": "stdout",
     "output_type": "stream",
     "text": [
      "🔹 First 5 rows:\n"
     ]
    },
    {
     "data": {
      "text/html": [
       "<div>\n",
       "<style scoped>\n",
       "    .dataframe tbody tr th:only-of-type {\n",
       "        vertical-align: middle;\n",
       "    }\n",
       "\n",
       "    .dataframe tbody tr th {\n",
       "        vertical-align: top;\n",
       "    }\n",
       "\n",
       "    .dataframe thead th {\n",
       "        text-align: right;\n",
       "    }\n",
       "</style>\n",
       "<table border=\"1\" class=\"dataframe\">\n",
       "  <thead>\n",
       "    <tr style=\"text-align: right;\">\n",
       "      <th></th>\n",
       "      <th>timestamp</th>\n",
       "      <th>visitorid</th>\n",
       "      <th>event</th>\n",
       "      <th>itemid</th>\n",
       "      <th>transactionid</th>\n",
       "    </tr>\n",
       "  </thead>\n",
       "  <tbody>\n",
       "    <tr>\n",
       "      <th>0</th>\n",
       "      <td>2015-06-02 05:02:12.117</td>\n",
       "      <td>257597</td>\n",
       "      <td>view</td>\n",
       "      <td>355908</td>\n",
       "      <td>NaN</td>\n",
       "    </tr>\n",
       "    <tr>\n",
       "      <th>1</th>\n",
       "      <td>2015-06-02 05:50:14.164</td>\n",
       "      <td>992329</td>\n",
       "      <td>view</td>\n",
       "      <td>248676</td>\n",
       "      <td>NaN</td>\n",
       "    </tr>\n",
       "    <tr>\n",
       "      <th>2</th>\n",
       "      <td>2015-06-02 05:13:19.827</td>\n",
       "      <td>111016</td>\n",
       "      <td>view</td>\n",
       "      <td>318965</td>\n",
       "      <td>NaN</td>\n",
       "    </tr>\n",
       "    <tr>\n",
       "      <th>3</th>\n",
       "      <td>2015-06-02 05:12:35.914</td>\n",
       "      <td>483717</td>\n",
       "      <td>view</td>\n",
       "      <td>253185</td>\n",
       "      <td>NaN</td>\n",
       "    </tr>\n",
       "    <tr>\n",
       "      <th>4</th>\n",
       "      <td>2015-06-02 05:02:17.106</td>\n",
       "      <td>951259</td>\n",
       "      <td>view</td>\n",
       "      <td>367447</td>\n",
       "      <td>NaN</td>\n",
       "    </tr>\n",
       "  </tbody>\n",
       "</table>\n",
       "</div>"
      ],
      "text/plain": [
       "                timestamp  visitorid event  itemid  transactionid\n",
       "0 2015-06-02 05:02:12.117     257597  view  355908            NaN\n",
       "1 2015-06-02 05:50:14.164     992329  view  248676            NaN\n",
       "2 2015-06-02 05:13:19.827     111016  view  318965            NaN\n",
       "3 2015-06-02 05:12:35.914     483717  view  253185            NaN\n",
       "4 2015-06-02 05:02:17.106     951259  view  367447            NaN"
      ]
     },
     "metadata": {},
     "output_type": "display_data"
    },
    {
     "name": "stdout",
     "output_type": "stream",
     "text": [
      "🔹 Dataset Info:\n",
      "<class 'pandas.core.frame.DataFrame'>\n",
      "RangeIndex: 2756101 entries, 0 to 2756100\n",
      "Data columns (total 5 columns):\n",
      " #   Column         Dtype         \n",
      "---  ------         -----         \n",
      " 0   timestamp      datetime64[ns]\n",
      " 1   visitorid      int64         \n",
      " 2   event          object        \n",
      " 3   itemid         int64         \n",
      " 4   transactionid  float64       \n",
      "dtypes: datetime64[ns](1), float64(1), int64(2), object(1)\n",
      "memory usage: 105.1+ MB\n"
     ]
    },
    {
     "data": {
      "text/plain": [
       "None"
      ]
     },
     "metadata": {},
     "output_type": "display_data"
    },
    {
     "name": "stdout",
     "output_type": "stream",
     "text": [
      "🔹 Event Types Distribution:\n"
     ]
    },
    {
     "data": {
      "text/plain": [
       "event\n",
       "view           2664312\n",
       "addtocart        69332\n",
       "transaction      22457\n",
       "Name: count, dtype: int64"
      ]
     },
     "metadata": {},
     "output_type": "display_data"
    },
    {
     "name": "stdout",
     "output_type": "stream",
     "text": [
      "🔹 Unique Users: 1407580\n",
      "🔹 Unique Items: 235061\n"
     ]
    }
   ],
   "source": [
    "# Load the events dataset and convert timestamp for easier analysis\n",
    "# Each row represents a user-item interaction (e.g., view, add-to-cart, transaction)\n",
    "\n",
    "import pandas as pd  \n",
    "# Load the events dataset and convert timestamp for easier analysis\n",
    "# Each row represents a user-item interaction (e\n",
    "\n",
    "events = pd.read_csv(\"../data/events.csv\")\n",
    "events['timestamp'] = pd.to_datetime(events['timestamp'], unit='ms')\n",
    "\n",
    "# Preview first few rows of the dataset\n",
    "print(\"🔹 First 5 rows:\")\n",
    "display(events.head())\n",
    "\n",
    "# Show data structure and column types\n",
    "print(\"🔹 Dataset Info:\")\n",
    "display(events.info())\n",
    "\n",
    "\n",
    "# Count how many of each interaction type we have\n",
    "print(\"🔹 Event Types Distribution:\")\n",
    "display(events['event'].value_counts())\n",
    "\n",
    "# Count number of unique users and products\n",
    "print(\"🔹 Unique Users:\", events['visitorid'].nunique())\n",
    "print(\"🔹 Unique Items:\", events['itemid'].nunique())\n"
   ]
  },
  {
   "cell_type": "code",
   "execution_count": null,
   "id": "aeaca7c5",
   "metadata": {},
   "outputs": [
    {
     "name": "stdout",
     "output_type": "stream",
     "text": [
      "Defaulting to user installation because normal site-packages is not writeable\n",
      "Collecting pandas\n",
      "  Downloading pandas-2.3.0-cp39-cp39-macosx_11_0_arm64.whl (10.8 MB)\n",
      "\u001b[K     |████████████████████████████████| 10.8 MB 5.1 MB/s eta 0:00:01    |████████████▋                   | 4.2 MB 5.1 MB/s eta 0:00:02\n",
      "\u001b[?25hRequirement already satisfied: python-dateutil>=2.8.2 in /Users/patil/Library/Python/3.9/lib/python/site-packages (from pandas) (2.9.0.post0)\n",
      "Collecting numpy>=1.22.4\n",
      "  Downloading numpy-2.0.2-cp39-cp39-macosx_14_0_arm64.whl (5.3 MB)\n",
      "\u001b[K     |████████████████████████████████| 5.3 MB 10.0 MB/s eta 0:00:01\n",
      "\u001b[?25hCollecting pytz>=2020.1\n",
      "  Downloading pytz-2025.2-py2.py3-none-any.whl (509 kB)\n",
      "\u001b[K     |████████████████████████████████| 509 kB 10.3 MB/s eta 0:00:01\n",
      "\u001b[?25hCollecting tzdata>=2022.7\n",
      "  Downloading tzdata-2025.2-py2.py3-none-any.whl (347 kB)\n",
      "\u001b[K     |████████████████████████████████| 347 kB 21.0 MB/s eta 0:00:01\n",
      "\u001b[?25hRequirement already satisfied: six>=1.5 in /Library/Developer/CommandLineTools/Library/Frameworks/Python3.framework/Versions/3.9/lib/python3.9/site-packages (from python-dateutil>=2.8.2->pandas) (1.15.0)\n",
      "Installing collected packages: tzdata, pytz, numpy, pandas\n",
      "Successfully installed numpy-2.0.2 pandas-2.3.0 pytz-2025.2 tzdata-2025.2\n",
      "\u001b[33mWARNING: You are using pip version 21.2.4; however, version 25.1.1 is available.\n",
      "You should consider upgrading via the '/Library/Developer/CommandLineTools/usr/bin/python3 -m pip install --upgrade pip' command.\u001b[0m\n",
      "Note: you may need to restart the kernel to use updated packages.\n"
     ]
    }
   ],
   "source": [
    "#pip install pandas"
   ]
  },
  {
   "cell_type": "markdown",
   "id": "d79a5d19",
   "metadata": {},
   "source": [
    "##  Step 1: Data Loading and Initial Exploration\n",
    "\n",
    "In this step, we loaded and inspected the `events.csv` file from the Retailrocket dataset. This dataset contains user interactions with products on an e-commerce platform and is ideal for building a recommendation engine based on implicit feedback (no explicit ratings).\n",
    "\n",
    "###  Actions Performed:\n",
    "- Loaded `events.csv` into a Pandas DataFrame\n",
    "- Converted `timestamp` from UNIX (ms) to human-readable datetime\n",
    "- Checked data structure using `.info()`, `.head()`\n",
    "- Counted the number of unique users and items\n",
    "- Examined the distribution of interaction types (events)\n",
    "\n",
    "###  Key Observations:\n",
    "- Total rows: **2,756,101**\n",
    "- Columns: `timestamp`, `visitorid`, `event`, `itemid`, `transactionid`\n",
    "- Interaction types:\n",
    "  - `view`: **2,664,312** (~97%)\n",
    "  - `addtocart`: **69,332**\n",
    "  - `transaction`: **22,457**\n",
    "- Users: **1,407,580** unique `visitorid`s\n",
    "- Products: **235,061** unique `itemid`s\n",
    "\n",
    "###  Insights:\n",
    "- The dataset is **heavily skewed towards 'view' events**, which is realistic in e-commerce.\n",
    "- **Very few transactions**, which suggests the need to treat events with different weights when building a user-item preference matrix.\n",
    "- This is a classic **sparse implicit feedback setting**, best suited for algorithms like **ALS (Alternating Least Squares)** or **LightFM**.\n",
    "- Due to the large number of users and items, **dimensionality reduction and filtering** will be critical in the next steps.\n",
    "\n",
    "Next, we'll begin **preprocessing** by assigning weights to different event types to build a user-item interaction matrix for training.\n"
   ]
  },
  {
   "cell_type": "markdown",
   "id": "94d006a0",
   "metadata": {},
   "source": [
    "# Step 2: Preprocessing and User-Item Matrix Creation"
   ]
  },
  {
   "cell_type": "code",
   "execution_count": 4,
   "id": "5d6510cd",
   "metadata": {},
   "outputs": [
    {
     "name": "stdout",
     "output_type": "stream",
     "text": [
      "🔹 User-Item Interaction Matrix (top rows):\n"
     ]
    },
    {
     "data": {
      "text/html": [
       "<div>\n",
       "<style scoped>\n",
       "    .dataframe tbody tr th:only-of-type {\n",
       "        vertical-align: middle;\n",
       "    }\n",
       "\n",
       "    .dataframe tbody tr th {\n",
       "        vertical-align: top;\n",
       "    }\n",
       "\n",
       "    .dataframe thead th {\n",
       "        text-align: right;\n",
       "    }\n",
       "</style>\n",
       "<table border=\"1\" class=\"dataframe\">\n",
       "  <thead>\n",
       "    <tr style=\"text-align: right;\">\n",
       "      <th></th>\n",
       "      <th>visitorid</th>\n",
       "      <th>itemid</th>\n",
       "      <th>event_strength</th>\n",
       "    </tr>\n",
       "  </thead>\n",
       "  <tbody>\n",
       "    <tr>\n",
       "      <th>0</th>\n",
       "      <td>0</td>\n",
       "      <td>67045</td>\n",
       "      <td>1</td>\n",
       "    </tr>\n",
       "    <tr>\n",
       "      <th>1</th>\n",
       "      <td>0</td>\n",
       "      <td>285930</td>\n",
       "      <td>1</td>\n",
       "    </tr>\n",
       "    <tr>\n",
       "      <th>2</th>\n",
       "      <td>0</td>\n",
       "      <td>357564</td>\n",
       "      <td>1</td>\n",
       "    </tr>\n",
       "    <tr>\n",
       "      <th>3</th>\n",
       "      <td>1</td>\n",
       "      <td>72028</td>\n",
       "      <td>1</td>\n",
       "    </tr>\n",
       "    <tr>\n",
       "      <th>4</th>\n",
       "      <td>2</td>\n",
       "      <td>216305</td>\n",
       "      <td>2</td>\n",
       "    </tr>\n",
       "  </tbody>\n",
       "</table>\n",
       "</div>"
      ],
      "text/plain": [
       "   visitorid  itemid  event_strength\n",
       "0          0   67045               1\n",
       "1          0  285930               1\n",
       "2          0  357564               1\n",
       "3          1   72028               1\n",
       "4          2  216305               2"
      ]
     },
     "metadata": {},
     "output_type": "display_data"
    },
    {
     "name": "stdout",
     "output_type": "stream",
     "text": [
      "🔹 Shape of matrix: (2145179, 3)\n",
      "🔹 Top users with most activity:\n"
     ]
    },
    {
     "data": {
      "text/plain": [
       "visitorid\n",
       "1150086    3814\n",
       "530559     2209\n",
       "892013     1738\n",
       "895999     1641\n",
       "152963     1622\n",
       "Name: count, dtype: int64"
      ]
     },
     "metadata": {},
     "output_type": "display_data"
    }
   ],
   "source": [
    "\n",
    "# - Filter useful columns\n",
    "# - Assign interaction weights based on event type\n",
    "# - Group to form user-item interaction matrix\n",
    "\n",
    "import numpy as np\n",
    "\n",
    "# Select relevant columns\n",
    "interaction_df = events[['visitorid', 'itemid', 'event']].copy()\n",
    "\n",
    "# Map events to numeric weights (implicit feedback)\n",
    "event_weights = {\n",
    "    'view': 1,\n",
    "    'addtocart': 3,\n",
    "    'transaction': 5\n",
    "}\n",
    "interaction_df['event_strength'] = interaction_df['event'].map(event_weights)\n",
    "\n",
    "# Group by user-item and sum weights to form the interaction matrix\n",
    "user_item_matrix = (\n",
    "    interaction_df\n",
    "    .groupby(['visitorid', 'itemid'])['event_strength']\n",
    "    .sum()\n",
    "    .reset_index()\n",
    ")\n",
    "\n",
    "# Preview\n",
    "print(\"🔹 User-Item Interaction Matrix (top rows):\")\n",
    "display(user_item_matrix.head())\n",
    "\n",
    "# Basic stats\n",
    "print(\"🔹 Shape of matrix:\", user_item_matrix.shape)\n",
    "print(\"🔹 Top users with most activity:\")\n",
    "display(user_item_matrix['visitorid'].value_counts().head())\n"
   ]
  },
  {
   "cell_type": "markdown",
   "id": "0de3b280",
   "metadata": {},
   "source": [
    "## Step 2: Preprocessing and Creating the User-Item Interaction Matrix\n",
    "\n",
    "In this step, we transformed raw clickstream data into a numerical user-item matrix to prepare it for recommendation modeling.\n",
    "\n",
    "###  Actions Performed:\n",
    "- Selected key columns: `visitorid`, `itemid`, and `event`\n",
    "- Assigned weights to events:\n",
    "  - `view`: 1\n",
    "  - `addtocart`: 3\n",
    "  - `transaction`: 5\n",
    "- Grouped interactions to compute total `event_strength` per `(user, item)` pair\n",
    "- Output: ~2.1 million rows representing weighted interaction scores\n",
    "\n",
    "\n",
    "### Insights:\n",
    "- The interaction matrix is highly **sparse**, with only a small fraction of possible user-item pairs represented.\n",
    "- Top users show thousands of interactions — these may include power users or automated behavior.\n",
    "- We now have a clean dataset of user preferences for training **collaborative filtering** models (e.g., ALS, LightFM).\n",
    "\n",
    "➡️ Next step: Train a recommendation model using this interaction matrix.\n",
    "\n"
   ]
  },
  {
   "cell_type": "markdown",
   "id": "f4e4f00d",
   "metadata": {},
   "source": [
    "## Step 3: Train Collaborative Filtering Model Using ALS (Implicit Library)"
   ]
  },
  {
   "cell_type": "code",
   "execution_count": null,
   "id": "e862ec91",
   "metadata": {},
   "outputs": [
    {
     "name": "stdout",
     "output_type": "stream",
     "text": [
      "Defaulting to user installation because normal site-packages is not writeable\n",
      "Collecting implicit\n",
      "  Downloading implicit-0.7.2-cp39-cp39-macosx_11_0_arm64.whl (765 kB)\n",
      "\u001b[K     |████████████████████████████████| 765 kB 4.1 MB/s eta 0:00:01\n",
      "\u001b[?25hCollecting scipy>=0.16\n",
      "  Downloading scipy-1.13.1-cp39-cp39-macosx_12_0_arm64.whl (30.3 MB)\n",
      "\u001b[K     |████████████████████████████████| 30.3 MB 7.1 MB/s eta 0:00:01\n",
      "\u001b[?25hCollecting tqdm>=4.27\n",
      "  Downloading tqdm-4.67.1-py3-none-any.whl (78 kB)\n",
      "\u001b[K     |████████████████████████████████| 78 kB 16.2 MB/s eta 0:00:01\n",
      "\u001b[?25hRequirement already satisfied: numpy>=1.17.0 in /Users/patil/Library/Python/3.9/lib/python/site-packages (from implicit) (2.0.2)\n",
      "Collecting threadpoolctl\n",
      "  Downloading threadpoolctl-3.6.0-py3-none-any.whl (18 kB)\n",
      "Installing collected packages: tqdm, threadpoolctl, scipy, implicit\n",
      "Successfully installed implicit-0.7.2 scipy-1.13.1 threadpoolctl-3.6.0 tqdm-4.67.1\n",
      "\u001b[33mWARNING: You are using pip version 21.2.4; however, version 25.1.1 is available.\n",
      "You should consider upgrading via the '/Library/Developer/CommandLineTools/usr/bin/python3 -m pip install --upgrade pip' command.\u001b[0m\n",
      "Note: you may need to restart the kernel to use updated packages.\n"
     ]
    }
   ],
   "source": [
    "#pip install implicit\n"
   ]
  },
  {
   "cell_type": "code",
   "execution_count": 5,
   "id": "90accce3",
   "metadata": {},
   "outputs": [
    {
     "name": "stderr",
     "output_type": "stream",
     "text": [
      "/Users/patil/Library/CloudStorage/OneDrive-UniversityatBuffalo/Desktop/MS/2.Course/Project/E_Commarce_recomandation system/E_Commerce_Product-_Recommendation_System/venv/lib/python3.10/site-packages/tqdm/auto.py:21: TqdmWarning: IProgress not found. Please update jupyter and ipywidgets. See https://ipywidgets.readthedocs.io/en/stable/user_install.html\n",
      "  from .autonotebook import tqdm as notebook_tqdm\n"
     ]
    }
   ],
   "source": [
    "import scipy.sparse as sparse\n",
    "from implicit.als import AlternatingLeastSquares\n",
    "\n",
    "# Recreate mapping if needed\n",
    "user_mapping = {user_id: idx for idx, user_id in enumerate(user_item_matrix['visitorid'].unique())}\n",
    "item_mapping = {item_id: idx for idx, item_id in enumerate(user_item_matrix['itemid'].unique())}\n",
    "\n",
    "user_item_matrix['user_idx'] = user_item_matrix['visitorid'].map(user_mapping)\n",
    "user_item_matrix['item_idx'] = user_item_matrix['itemid'].map(item_mapping)\n",
    "\n",
    "#  Build ITEM x USER sparse matrix for model training\n",
    "item_user_matrix = sparse.csr_matrix((\n",
    "    user_item_matrix['event_strength'].astype(float),\n",
    "    (user_item_matrix['item_idx'], user_item_matrix['user_idx'])\n",
    "))\n",
    "\n",
    "# Transpose to USER x ITEM for recommendation\n",
    "user_item_sparse_matrix = item_user_matrix.T.tocsr()"
   ]
  },
  {
   "cell_type": "code",
   "execution_count": 6,
   "id": "7e29d933",
   "metadata": {},
   "outputs": [
    {
     "name": "stderr",
     "output_type": "stream",
     "text": [
      "100%|██████████| 15/15 [00:35<00:00,  2.40s/it]\n"
     ]
    }
   ],
   "source": [
    "# Train ALS model\n",
    "model = AlternatingLeastSquares(factors=50, regularization=0.01, iterations=15)\n",
    "model.fit(item_user_matrix)\n"
   ]
  },
  {
   "cell_type": "code",
   "execution_count": 7,
   "id": "c317146b",
   "metadata": {},
   "outputs": [
    {
     "name": "stdout",
     "output_type": "stream",
     "text": [
      "Top 5 recommendations for user 0:\n",
      "Item 67045 (Score: 0.08)\n"
     ]
    }
   ],
   "source": [
    "user_id = list(user_mapping.keys())[0]\n",
    "user_idx = user_mapping[user_id]\n",
    "\n",
    "# Get top-N item recommendations\n",
    "recommendations = model.recommend(user_idx, user_item_sparse_matrix[user_idx], N=5)\n",
    "\n",
    "# Safely map internal item indices back to item IDs\n",
    "reverse_item_mapping = {v: k for k, v in item_mapping.items()}\n",
    "\n",
    "recommended_items = []\n",
    "for row in recommendations:\n",
    "    item_idx = int(row[0])   # ALS internal item index\n",
    "    score = float(row[1])\n",
    "    if item_idx in reverse_item_mapping:\n",
    "        item_id = reverse_item_mapping[item_idx]\n",
    "        recommended_items.append((item_id, score))\n",
    "\n",
    "# Print the top 5 recommendations\n",
    "print(f\"Top 5 recommendations for user {user_id}:\")\n",
    "for item_id, score in recommended_items:\n",
    "    print(f\"Item {item_id} (Score: {score:.2f})\")\n"
   ]
  },
  {
   "cell_type": "markdown",
   "id": "99af005b",
   "metadata": {},
   "source": [
    "## Step 3: Train Collaborative Filtering Model (ALS)\n",
    "\n",
    "In this step, we trained a recommendation model using the **Alternating Least Squares (ALS)** algorithm from the `implicit` library. ALS is ideal for implicit feedback data like clicks, add-to-cart, and transactions.\n",
    "\n",
    "###  Actions Performed:\n",
    "- Mapped user and item IDs to unique integer indices\n",
    "- Created a sparse matrix of `(item × user)` format with event strengths\n",
    "- Trained ALS model using 50 latent factors and 15 iterations\n",
    "- Generated top-N recommendations for a sample user\n",
    "\n",
    "###  Internal Mappings:\n",
    "- ALS requires internal matrix factorization → item and user IDs must be mapped to index values.\n",
    "- Used a `reverse_item_mapping` to convert predictions back to original `itemid` values.\n",
    "\n",
    "\n",
    "This indicates that item `67045` is recommended with the highest confidence to user `0`.\n",
    "\n",
    "Next: We'll deploy this model behind a FastAPI endpoint to serve real-time recommendations.\n",
    "\n"
   ]
  },
  {
   "cell_type": "markdown",
   "id": "a2a5499f",
   "metadata": {},
   "source": [
    "Simulated User-Item Interaction Matrix\n",
    "\n",
    "\n",
    "| Visitor ID | Item A | Item B | Item C | Item D |\n",
    "| ---------- | ------ | ------ | ------ | ------ |\n",
    "| **1001**   | 1      | 8      |        |        |\n",
    "| **1002**   | 1      |        | 1      |        |\n",
    "| **1003**   |        |        |        | 5      |\n",
    "| **1004**   |        | 1      |        | 1      |\n",
    "\n",
    "\n",
    "\n",
    "\n",
    "\n",
    "\n",
    "Key:\n",
    "User 1001 has the highest engagement with Item B (view + add-to-cart + purchase → total 8).\n",
    "\n",
    "User 1003 strongly interacted with Item D (purchased).\n",
    "\n",
    "User 1004 lightly interacted with B and D.\n",
    "\n",
    "🧠 How ALS Uses This:\n",
    "Learns latent features from these strengths.\n",
    "\n",
    "Recommends items to users based on others with similar patterns.\n",
    "\n",
    "E.g., User 1002 might be recommended Item B next, since similar users 1001/1004 liked it.\n"
   ]
  },
  {
   "cell_type": "code",
   "execution_count": null,
   "id": "c9c82ca8",
   "metadata": {},
   "outputs": [],
   "source": []
  },
  {
   "cell_type": "code",
   "execution_count": null,
   "id": "551169b3",
   "metadata": {},
   "outputs": [],
   "source": [
    "# import pickle\n",
    "# import os\n",
    "\n",
    "# # Create the 'models' directory in the parent folder, if it doesn't already exist.\n",
    "# # This assumes your script is currently running from a subdirectory (e.g., 'notebooks')\n",
    "# # and you want the 'models' folder to be one level up, in the main project directory.\n",
    "# os.makedirs(\"../models\", exist_ok=True)\n",
    "\n",
    "# # Save ALS model and sparse matrix to the specified 'models' directory in the parent folder.\n",
    "# pickle.dump(model, open(\"../models/als_model.pkl\", \"wb\"))\n",
    "# pickle.dump(user_item_sparse_matrix, open(\"../models/user_item_matrix.pkl\", \"wb\"))\n",
    "# pickle.dump(user_mapping, open(\"../models/user_mapping.pkl\", \"wb\"))\n",
    "# pickle.dump(item_mapping, open(\"../models/item_mapping.pkl\", \"wb\"))\n"
   ]
  },
  {
   "cell_type": "code",
   "execution_count": null,
   "id": "625c2f0c",
   "metadata": {},
   "outputs": [
    {
     "name": "stdout",
     "output_type": "stream",
     "text": [
      "Collecting joblib\n",
      "  Downloading joblib-1.5.1-py3-none-any.whl.metadata (5.6 kB)\n",
      "Downloading joblib-1.5.1-py3-none-any.whl (307 kB)\n",
      "Installing collected packages: joblib\n",
      "Successfully installed joblib-1.5.1\n",
      "Note: you may need to restart the kernel to use updated packages.\n"
     ]
    }
   ],
   "source": [
    "#pip install joblib"
   ]
  },
  {
   "cell_type": "code",
   "execution_count": 10,
   "id": "20919369",
   "metadata": {},
   "outputs": [
    {
     "data": {
      "text/plain": [
       "['../models/item_mapping.joblib']"
      ]
     },
     "execution_count": 10,
     "metadata": {},
     "output_type": "execute_result"
    }
   ],
   "source": [
    "import joblib\n",
    "import os\n",
    "\n",
    "# Create models directory if it doesn't exist\n",
    "os.makedirs(\"../models\", exist_ok=True)\n",
    "\n",
    "# Save ALS model and artifacts using joblib\n",
    "joblib.dump(model, \"../models/als_model.joblib\")\n",
    "joblib.dump(user_item_sparse_matrix, \"../models/user_item_matrix.joblib\")\n",
    "joblib.dump(user_mapping, \"../models/user_mapping.joblib\")\n",
    "joblib.dump(item_mapping, \"../models/item_mapping.joblib\")\n",
    "\n"
   ]
  },
  {
   "cell_type": "code",
   "execution_count": null,
   "id": "90f9540d",
   "metadata": {},
   "outputs": [],
   "source": []
  }
 ],
 "metadata": {
  "kernelspec": {
   "display_name": "venv",
   "language": "python",
   "name": "python3"
  },
  "language_info": {
   "codemirror_mode": {
    "name": "ipython",
    "version": 3
   },
   "file_extension": ".py",
   "mimetype": "text/x-python",
   "name": "python",
   "nbconvert_exporter": "python",
   "pygments_lexer": "ipython3",
   "version": "3.10.16"
  }
 },
 "nbformat": 4,
 "nbformat_minor": 5
}
